{
 "cells": [
  {
   "cell_type": "markdown",
   "metadata": {},
   "source": [
    "# COVIDx-CT Dataset Constructor\n",
    "This notebook constructs the COVIDx-CT dataset from scratch using the raw data. See [docs/dataset.md](docs/dataset.md) for more details on manual steps which must be completed beforehand."
   ]
  },
  {
   "cell_type": "code",
   "execution_count": 1,
   "metadata": {},
   "outputs": [],
   "source": [
    "import os\n",
    "import cv2\n",
    "import glob\n",
    "import numpy as np\n",
    "\n",
    "from dataset_construction.utils import CLASS_MAP"
   ]
  },
  {
   "cell_type": "markdown",
   "metadata": {},
   "source": [
    "## Setting Paths\n",
    "Paths to the source data and output location should be set here. Note that the window width and window level for processing scans in Hounsfield units are defined in [data_utils.py](data_utils.py) as `HU_WINDOW_WIDTH = 1500` and `HU_WINDOW_LEVEL = -600`."
   ]
  },
  {
   "cell_type": "code",
   "execution_count": 2,
   "metadata": {},
   "outputs": [],
   "source": [
    "# CNCB AI Diagnosis paths\n",
    "CNCB_EXCLUDE_FILE = 'dataset_construction/metadata/cncb_exclude_list.txt'\n",
    "CNCB_DIR = 'data/CNCB_AI_Diagnosis'\n",
    "\n",
    "# Radiopaedia/coronacases segmentation data paths\n",
    "RADIOPAEDIA_CORONACASES_CT_DIR = 'data/Coronacases_Radiopaedia/COVID-19-CT-Seg_20cases'\n",
    "RADIOPAEDIA_CORONACASES_SEG_DIR = 'data/Coronacases_Radiopaedia/Infection_Mask'\n",
    "\n",
    "# LIDC-IDRI paths\n",
    "LIDC_META_CSV = 'dataset_construction/metadata/lidc_idri_metadata.csv'\n",
    "\n",
    "# COVID-19-20 paths\n",
    "COVID_19_20_DIR = 'data/COVID-19-20_v2/Train'\n",
    "\n",
    "# COVID-CTset paths\n",
    "COVID_CTSET_META_CSV = 'data/COVID-CTset/Labels&Detailes/Patient_details.csv'\n",
    "COVID_CTSET_DIR = 'data/COVID-CTset/Train&Validation'\n",
    "\n",
    "# Output directory path\n",
    "OUTPUT_DIR = 'data/COVIDx-CT'  # directory to save the images in\n",
    "\n",
    "# Make output directory\n",
    "os.makedirs(OUTPUT_DIR, exist_ok=True)"
   ]
  },
  {
   "cell_type": "markdown",
   "metadata": {},
   "source": [
    "## Data Preparation\n",
    "These cells process the data from each source."
   ]
  },
  {
   "cell_type": "code",
   "execution_count": 3,
   "metadata": {},
   "outputs": [],
   "source": [
    "# Filename and class lists\n",
    "filenames, classes = [], []"
   ]
  },
  {
   "cell_type": "code",
   "execution_count": 4,
   "metadata": {},
   "outputs": [
    {
     "name": "stderr",
     "output_type": "stream",
     "text": [
      "100%|███████████████████████████████████████████████████████████████████████| 103981/103981 [00:04<00:00, 23360.60it/s]\n"
     ]
    }
   ],
   "source": [
    "# Process CNCB AI Diagnosis data\n",
    "from dataset_construction import cncb\n",
    "fnames, cls = cncb.process_cncb_data(CNCB_EXCLUDE_FILE, CNCB_DIR, OUTPUT_DIR)\n",
    "filenames.extend(fnames)\n",
    "classes.extend(cls)"
   ]
  },
  {
   "cell_type": "code",
   "execution_count": 5,
   "metadata": {},
   "outputs": [
    {
     "name": "stderr",
     "output_type": "stream",
     "text": [
      "100%|██████████████████████████████████████████████████████████████████████████████████| 20/20 [00:45<00:00,  2.27s/it]\n"
     ]
    }
   ],
   "source": [
    "# Process radiopaedia and coronacases data\n",
    "from dataset_construction import radiopaedia_coronacases as rc\n",
    "fnames, cls = rc.process_radiopaedia_and_coronacases_seg_data(\n",
    "    RADIOPAEDIA_CORONACASES_CT_DIR, RADIOPAEDIA_CORONACASES_SEG_DIR, OUTPUT_DIR)\n",
    "filenames.extend(fnames)\n",
    "classes.extend(cls)"
   ]
  },
  {
   "cell_type": "code",
   "execution_count": 6,
   "metadata": {},
   "outputs": [
    {
     "name": "stderr",
     "output_type": "stream",
     "text": [
      "100%|██████████████████████████████████████████████████████████████████████████████████| 39/39 [02:00<00:00,  3.09s/it]\n"
     ]
    }
   ],
   "source": [
    "# Process LIDC-IDRI data\n",
    "from dataset_construction import lidc_idri\n",
    "fnames, cls = lidc_idri.process_lidc_idri_data(LIDC_META_CSV, OUTPUT_DIR)\n",
    "filenames.extend(fnames)\n",
    "classes.extend(cls)"
   ]
  },
  {
   "cell_type": "code",
   "execution_count": 7,
   "metadata": {},
   "outputs": [
    {
     "name": "stderr",
     "output_type": "stream",
     "text": [
      "100%|████████████████████████████████████████████████████████████████████████████████| 199/199 [03:37<00:00,  1.09s/it]\n"
     ]
    }
   ],
   "source": [
    "# Process COVID-19-20 challenge data\n",
    "from dataset_construction import covid_19_20\n",
    "fnames, cls = covid_19_20.process_covid_19_20_data(COVID_19_20_DIR, OUTPUT_DIR)\n",
    "filenames.extend(fnames)\n",
    "classes.extend(cls)"
   ]
  },
  {
   "cell_type": "code",
   "execution_count": 8,
   "metadata": {},
   "outputs": [
    {
     "name": "stderr",
     "output_type": "stream",
     "text": [
      "100%|████████████████████████████████████████████████████████████████████████████████| 377/377 [00:11<00:00, 33.54it/s]\n"
     ]
    }
   ],
   "source": [
    "# Process COVID-CTset data\n",
    "from dataset_construction import covid_ctset\n",
    "fnames, cls = covid_ctset.process_covid_ctset_data(COVID_CTSET_META_CSV, COVID_CTSET_DIR, OUTPUT_DIR)\n",
    "filenames.extend(fnames)\n",
    "classes.extend(cls)"
   ]
  },
  {
   "cell_type": "code",
   "execution_count": 9,
   "metadata": {},
   "outputs": [
    {
     "name": "stdout",
     "output_type": "stream",
     "text": [
      "Image Counts\n",
      "Normal: [59533]\n",
      "Pneumonia: [36839]\n",
      "COVID-19: [29819]\n"
     ]
    }
   ],
   "source": [
    "# Print image counts\n",
    "uniq_classes, counts = np.unique(classes, return_counts=True)\n",
    "print('Image Counts')\n",
    "for name, cls in CLASS_MAP.items():\n",
    "    print('{}: {}'.format(name, counts[uniq_classes == cls]))"
   ]
  },
  {
   "cell_type": "markdown",
   "metadata": {},
   "source": [
    "## Verification\n",
    "Perform a check to ensure that all files are present (optional)."
   ]
  },
  {
   "cell_type": "code",
   "execution_count": 12,
   "metadata": {},
   "outputs": [
    {
     "name": "stdout",
     "output_type": "stream",
     "text": [
      "126191/126191 files created, dataset successfully constructed!\n"
     ]
    }
   ],
   "source": [
    "dataset_version = 'v2'  # may be changed to check for different versions\n",
    "split_files = glob.glob(os.path.join('splits/' + dataset_version, '*_COVIDx-CT_v*.txt'))\n",
    "if not len(split_files):\n",
    "    raise ValueError('Split files for COVIDx-CT {} not found'.format(dataset_version))\n",
    "count = 0\n",
    "total = 0\n",
    "incomplete = False\n",
    "for split_file in split_files:\n",
    "    with open(split_file, 'r') as f:\n",
    "        for line in f.readlines():\n",
    "            fname = line.split()[0]\n",
    "            fpath = os.path.join(OUTPUT_DIR, fname)\n",
    "            \n",
    "            total += 1\n",
    "            if os.path.exists(fpath):\n",
    "                count += 1\n",
    "            else:\n",
    "                print('Missing', fname)\n",
    "                incomplete = True\n",
    "            \n",
    "if incomplete:\n",
    "    print('{}/{} files are missing, dataset is incomplete!'.format(count, total))\n",
    "else:\n",
    "    print('{}/{} files created, dataset successfully constructed!'.format(count, total))"
   ]
  },
  {
   "cell_type": "code",
   "execution_count": null,
   "metadata": {},
   "outputs": [],
   "source": []
  }
 ],
 "metadata": {
  "kernelspec": {
   "display_name": "Python 3",
   "language": "python",
   "name": "python3"
  },
  "language_info": {
   "codemirror_mode": {
    "name": "ipython",
    "version": 3
   },
   "file_extension": ".py",
   "mimetype": "text/x-python",
   "name": "python",
   "nbconvert_exporter": "python",
   "pygments_lexer": "ipython3",
   "version": "3.7.5"
  }
 },
 "nbformat": 4,
 "nbformat_minor": 1
}
